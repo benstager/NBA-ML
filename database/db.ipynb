{
 "cells": [
  {
   "cell_type": "code",
   "execution_count": null,
   "metadata": {},
   "outputs": [],
   "source": [
    "import sqlite3\n",
    "\n",
    "# Connect to the SQLite database (create it if it doesn't exist)\n",
    "conn = sqlite3.connect('/Users/benstager/test.db')\n",
    "\n",
    "# Create a cursor object\n",
    "cursor = conn.cursor()\n",
    "\n",
    "# Create a table named 'numbers'\n",
    "cursor.execute('''CREATE TABLE IF NOT EXISTS numbers\n",
    "                  (id INTEGER PRIMARY KEY, num1 INTEGER, num2 INTEGER, num3 INTEGER)''')\n",
    "\n",
    "# Insert rows into the table\n",
    "cursor.execute(\"INSERT INTO numbers (num1, num2, num3) VALUES (1, 2, 3)\")\n",
    "cursor.execute(\"INSERT INTO numbers (num1, num2, num3) VALUES (4, 5, 6)\")\n",
    "\n",
    "# Commit changes to the database\n",
    "conn.commit()\n",
    "\n",
    "# Close the connection\n",
    "conn.close()\n",
    "\n",
    "print(\"Database initialized and rows inserted successfully.\")"
   ]
  }
 ],
 "metadata": {
  "language_info": {
   "name": "python"
  }
 },
 "nbformat": 4,
 "nbformat_minor": 2
}
